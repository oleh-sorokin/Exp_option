{
 "cells": [
  {
   "cell_type": "code",
   "execution_count": 90,
   "metadata": {},
   "outputs": [],
   "source": [
    "#Questionnaire\n",
    "import pandas as pd\n",
    "import numpy as np"
   ]
  },
  {
   "cell_type": "code",
   "execution_count": 104,
   "metadata": {},
   "outputs": [
    {
     "name": "stdout",
     "output_type": "stream",
     "text": [
      "   A  B\n",
      "0  0  7\n",
      "1  2  5\n",
      "2  2  2\n",
      "3  1  7\n",
      "4  3  2\n",
      "5  3  2\n",
      "6  3  0\n",
      "7  0  1\n"
     ]
    }
   ],
   "source": [
    "#1\n",
    "A = [0,2,2,1,3,3,3,0]\n",
    "B = [7,5,2,7,2,2,0,1]\n",
    "d = {'A': A, 'B': B}\n",
    "data = pd.DataFrame(data = d)\n",
    "print(data)"
   ]
  },
  {
   "cell_type": "code",
   "execution_count": 150,
   "metadata": {},
   "outputs": [
    {
     "name": "stdout",
     "output_type": "stream",
     "text": [
      "0    0.000000\n",
      "1    1.098612\n",
      "2    1.098612\n",
      "3    0.693147\n",
      "4    1.386294\n",
      "5    1.386294\n",
      "6    1.386294\n",
      "7    0.000000\n",
      "Name: A, dtype: float64\n"
     ]
    }
   ],
   "source": [
    "#a)\n",
    "Alog1p = np.log1p(data.A)\n",
    "print(Alog1p)"
   ]
  },
  {
   "cell_type": "code",
   "execution_count": 153,
   "metadata": {},
   "outputs": [
    {
     "name": "stdout",
     "output_type": "stream",
     "text": [
      "0    7\n",
      "1    5\n",
      "2    2\n",
      "3    7\n",
      "4    3\n",
      "5    3\n",
      "6    3\n",
      "7    1\n",
      "dtype: int64 2*\n",
      "\n",
      "0    7\n",
      "1    5\n",
      "2    2\n",
      "3    7\n",
      "4    3\n",
      "5    3\n",
      "6    3\n",
      "7    1\n",
      "dtype: int64\n"
     ]
    }
   ],
   "source": [
    "#b)\n",
    "print(np.max(data, axis = 1),'2*\\n')\n",
    "# or \n",
    "print(data.max(axis = 1))"
   ]
  },
  {
   "cell_type": "code",
   "execution_count": 143,
   "metadata": {},
   "outputs": [
    {
     "name": "stdout",
     "output_type": "stream",
     "text": [
      " 1\n",
      " 4\n",
      " 5\n",
      " 3\n",
      " 6\n",
      " 7\n",
      " 8\n",
      " 2\n"
     ]
    }
   ],
   "source": [
    "#c) \n",
    "\"\"\"Sorting, resetting index saving the old one as a column, \n",
    "sorting back by the index column I saved and extracting the index.\n",
    "This will give us the row number which the element would have if sorted \n",
    "I'm adding one to make them start with 1 rather than with 0\n",
    "\"\"\"\n",
    "C = data.A.sort_values(ascending = True).reset_index(inplace = False)\n",
    "C1 = C.sort_values('index')\n",
    "print((pd.Series(C1.index)+1).to_string(index = False))\n"
   ]
  },
  {
   "cell_type": "code",
   "execution_count": 148,
   "metadata": {},
   "outputs": [
    {
     "name": "stdout",
     "output_type": "stream",
     "text": [
      " A  row_number\n",
      " 0           1\n",
      " 2           4\n",
      " 2           5\n",
      " 1           3\n",
      " 3           6\n",
      " 3           7\n",
      " 3           8\n",
      " 0           2\n"
     ]
    }
   ],
   "source": [
    "#to better represent it \n",
    "ans = pd.DataFrame({\"A\": data['A'],\"row_number\": pd.Series(C1.index)+1})\n",
    "print(ans.to_string(index = False))"
   ]
  },
  {
   "cell_type": "code",
   "execution_count": 95,
   "metadata": {},
   "outputs": [
    {
     "name": "stdout",
     "output_type": "stream",
     "text": [
      "   A  B\n",
      "0  0  7\n",
      "1  1  7\n",
      "2  2  5\n",
      "3  3  2\n"
     ]
    }
   ],
   "source": [
    "#d)\n",
    "d = pd.DataFrame(data.groupby('A').max().reset_index())\n",
    "print(d)"
   ]
  },
  {
   "cell_type": "code",
   "execution_count": 96,
   "metadata": {},
   "outputs": [
    {
     "name": "stdout",
     "output_type": "stream",
     "text": [
      " A  B\n",
      " 0  7\n",
      " 1  7\n",
      " 2  5\n",
      " 3  2\n"
     ]
    }
   ],
   "source": [
    "#if needed to print without index \n",
    "print(d.to_string(index = False))"
   ]
  },
  {
   "cell_type": "code",
   "execution_count": 97,
   "metadata": {},
   "outputs": [],
   "source": [
    "# Part 2"
   ]
  },
  {
   "cell_type": "code",
   "execution_count": 156,
   "metadata": {},
   "outputs": [
    {
     "name": "stdout",
     "output_type": "stream",
     "text": [
      "[[2470 8937 2740 ... 2455 5829 3126]\n",
      " [4632 2596 6064 ... 7221 4377 1869]\n",
      " [5517 2053 3519 ... 6632 2419  473]\n",
      " [1148 6795 2120 ... 9567  328 7934]\n",
      " [6239 6853 8654 ...   74 7223  193]]\n"
     ]
    }
   ],
   "source": [
    "arr = np.random.randint(low = 1,high = 10000, size = (5,100000))\n",
    "print(arr)"
   ]
  },
  {
   "cell_type": "code",
   "execution_count": 157,
   "metadata": {},
   "outputs": [
    {
     "data": {
      "text/plain": [
       "array([9999, 9999, 9999, 9999, 9999])"
      ]
     },
     "execution_count": 157,
     "metadata": {},
     "output_type": "execute_result"
    }
   ],
   "source": [
    "#a\n",
    "np.max(arr, axis = 1)"
   ]
  },
  {
   "cell_type": "code",
   "execution_count": 158,
   "metadata": {},
   "outputs": [
    {
     "data": {
      "text/plain": [
       "array([6239, 8937, 8654, ..., 9567, 7223, 7934])"
      ]
     },
     "execution_count": 158,
     "metadata": {},
     "output_type": "execute_result"
    }
   ],
   "source": [
    "#b\n",
    "np.max(arr, axis = 0)"
   ]
  },
  {
   "cell_type": "code",
   "execution_count": 102,
   "metadata": {},
   "outputs": [
    {
     "name": "stdout",
     "output_type": "stream",
     "text": [
      "[[13600  1475 19550 ... 19040 19780 19124]\n",
      " [15168  9353  3748 ... 10638  7140  5172]]\n"
     ]
    }
   ],
   "source": [
    "#c\n",
    "#Normally that would be a solution \n",
    "ndarray = arr[::3]\n",
    "print(ndarray)\n",
    "\n",
    "#this selects rows 0,3,6,9 and so on\n",
    "# if we need to start counting rows from 1 and select rows 3,6,9,12 the solution slightly differs"
   ]
  },
  {
   "cell_type": "code",
   "execution_count": 103,
   "metadata": {},
   "outputs": [
    {
     "name": "stdout",
     "output_type": "stream",
     "text": [
      "[[13985 13852  1405 ... 15495 13652 18186]]\n"
     ]
    }
   ],
   "source": [
    "# if we need to start counting rows from 1 and select rows 3,6,9,12 and so on\n",
    "# then I would just start the array from the 3rd row\n",
    "\n",
    "ndarray3rd = arr[2::3]\n",
    "print(ndarray3rd)"
   ]
  }
 ],
 "metadata": {
  "kernelspec": {
   "display_name": "Python 3",
   "language": "python",
   "name": "python3"
  },
  "language_info": {
   "codemirror_mode": {
    "name": "ipython",
    "version": 3
   },
   "file_extension": ".py",
   "mimetype": "text/x-python",
   "name": "python",
   "nbconvert_exporter": "python",
   "pygments_lexer": "ipython3",
   "version": "3.7.4"
  }
 },
 "nbformat": 4,
 "nbformat_minor": 2
}
