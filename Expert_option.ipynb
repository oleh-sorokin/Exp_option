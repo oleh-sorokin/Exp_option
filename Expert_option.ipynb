{
 "cells": [
  {
   "cell_type": "code",
   "execution_count": 15,
   "metadata": {},
   "outputs": [
    {
     "name": "stdout",
     "output_type": "stream",
     "text": [
      "Imported\n"
     ]
    }
   ],
   "source": [
    "#Questionnaire\n",
    "import pandas as pd\n",
    "import numpy as np\n",
    "print(\"Imported\")"
   ]
  },
  {
   "cell_type": "code",
   "execution_count": 16,
   "metadata": {},
   "outputs": [
    {
     "name": "stdout",
     "output_type": "stream",
     "text": [
      "   A  B\n",
      "0  0  7\n",
      "1  2  5\n",
      "2  2  2\n",
      "3  1  7\n",
      "4  3  2\n",
      "5  3  2\n",
      "6  3  0\n",
      "7  0  1\n"
     ]
    }
   ],
   "source": [
    "#1\n",
    "A = [0,2,2,1,3,3,3,0]\n",
    "B = [7,5,2,7,2,2,0,1]\n",
    "d = {'A': A, 'B': B}\n",
    "df = pd.DataFrame(data = d)\n",
    "print(df)"
   ]
  },
  {
   "cell_type": "code",
   "execution_count": 17,
   "metadata": {},
   "outputs": [
    {
     "name": "stdout",
     "output_type": "stream",
     "text": [
      "0    0.000000\n",
      "1    1.098612\n",
      "2    1.098612\n",
      "3    0.693147\n",
      "4    1.386294\n",
      "5    1.386294\n",
      "6    1.386294\n",
      "7    0.000000\n",
      "Name: A, dtype: float64\n"
     ]
    }
   ],
   "source": [
    "#a)\n",
    "Alog1p = np.log1p(df.A)\n",
    "print(Alog1p)"
   ]
  },
  {
   "cell_type": "code",
   "execution_count": 30,
   "metadata": {},
   "outputs": [
    {
     "name": "stdout",
     "output_type": "stream",
     "text": [
      "0    7\n",
      "1    5\n",
      "2    2\n",
      "3    7\n",
      "4    3\n",
      "5    3\n",
      "6    3\n",
      "7    1\n",
      "dtype: int64 \n",
      "\n",
      "\n",
      "\n",
      "0    7\n",
      "1    5\n",
      "2    2\n",
      "3    7\n",
      "4    3\n",
      "5    3\n",
      "6    3\n",
      "7    1\n",
      "dtype: int64\n"
     ]
    }
   ],
   "source": [
    "#b)\n",
    "print(np.max(df, axis = 1),3*'\\n')\n",
    "# or \n",
    "print(df.max(axis = 1))"
   ]
  },
  {
   "cell_type": "code",
   "execution_count": 19,
   "metadata": {},
   "outputs": [
    {
     "name": "stdout",
     "output_type": "stream",
     "text": [
      " 1\n",
      " 4\n",
      " 5\n",
      " 3\n",
      " 6\n",
      " 7\n",
      " 8\n",
      " 2\n"
     ]
    }
   ],
   "source": [
    "#c) \n",
    "\"\"\"Sorting, resetting index saving the old one as a column, \n",
    "sorting back by the index column I saved and extracting the index.\n",
    "This will give us the row number which the element would have if sorted \n",
    "I'm adding one to make them start with 1 rather than with 0\n",
    "\"\"\"\n",
    "C = df.A.sort_values(ascending = True).reset_index(inplace = False)\n",
    "C1 = C.sort_values('index')\n",
    "print((pd.Series(C1.index)+1).to_string(index = False))\n"
   ]
  },
  {
   "cell_type": "code",
   "execution_count": 20,
   "metadata": {},
   "outputs": [
    {
     "name": "stdout",
     "output_type": "stream",
     "text": [
      " A  row_number\n",
      " 0           1\n",
      " 2           4\n",
      " 2           5\n",
      " 1           3\n",
      " 3           6\n",
      " 3           7\n",
      " 3           8\n",
      " 0           2\n"
     ]
    }
   ],
   "source": [
    "#to better represent it \n",
    "ans = pd.DataFrame({\"A\": df['A'],\"row_number\": pd.Series(C1.index)+1})\n",
    "print(ans.to_string(index = False))"
   ]
  },
  {
   "cell_type": "code",
   "execution_count": 21,
   "metadata": {},
   "outputs": [
    {
     "name": "stdout",
     "output_type": "stream",
     "text": [
      "   A  B\n",
      "0  0  7\n",
      "1  1  7\n",
      "2  2  5\n",
      "3  3  2\n"
     ]
    }
   ],
   "source": [
    "#d)\n",
    "d = pd.DataFrame(df.groupby('A').max().reset_index())\n",
    "print(d)"
   ]
  },
  {
   "cell_type": "code",
   "execution_count": 22,
   "metadata": {},
   "outputs": [
    {
     "name": "stdout",
     "output_type": "stream",
     "text": [
      " A  B\n",
      " 0  7\n",
      " 1  7\n",
      " 2  5\n",
      " 3  2\n"
     ]
    }
   ],
   "source": [
    "#if needed to print without index \n",
    "print(d.to_string(index = False))"
   ]
  },
  {
   "cell_type": "code",
   "execution_count": 23,
   "metadata": {},
   "outputs": [],
   "source": [
    "# Part 2"
   ]
  },
  {
   "cell_type": "code",
   "execution_count": 24,
   "metadata": {},
   "outputs": [
    {
     "name": "stdout",
     "output_type": "stream",
     "text": [
      "[[9414  490 6518 ... 4849 1352 7258]\n",
      " [7503 5111 6642 ...  140 2602 9819]\n",
      " [4994 5419 8672 ... 6882 1484  548]\n",
      " [6345 5457 8995 ... 8146 3528 2763]\n",
      " [3108 3058 9215 ... 7175  871 8432]]\n"
     ]
    }
   ],
   "source": [
    "arr = np.random.randint(low = 1,high = 10000, size = (5,100000))\n",
    "print(arr)"
   ]
  },
  {
   "cell_type": "code",
   "execution_count": 25,
   "metadata": {},
   "outputs": [
    {
     "data": {
      "text/plain": [
       "array([9999, 9999, 9999, 9999, 9999])"
      ]
     },
     "execution_count": 25,
     "metadata": {},
     "output_type": "execute_result"
    }
   ],
   "source": [
    "#a\n",
    "np.max(arr, axis = 1)"
   ]
  },
  {
   "cell_type": "code",
   "execution_count": 26,
   "metadata": {},
   "outputs": [
    {
     "data": {
      "text/plain": [
       "array([9414, 5457, 9215, ..., 8146, 3528, 9819])"
      ]
     },
     "execution_count": 26,
     "metadata": {},
     "output_type": "execute_result"
    }
   ],
   "source": [
    "#b\n",
    "np.max(arr, axis = 0)"
   ]
  },
  {
   "cell_type": "code",
   "execution_count": 27,
   "metadata": {},
   "outputs": [
    {
     "name": "stdout",
     "output_type": "stream",
     "text": [
      "[[9414  490 6518 ... 4849 1352 7258]\n",
      " [6345 5457 8995 ... 8146 3528 2763]]\n"
     ]
    }
   ],
   "source": [
    "#c\n",
    "#Normally that would be a solution \n",
    "ndarray = arr[::3]\n",
    "print(ndarray)\n",
    "\n",
    "#this selects rows 0,3,6,9 and so on\n",
    "# if we need to start counting rows from 1 and select rows 3,6,9,12 the solution slightly differs"
   ]
  },
  {
   "cell_type": "code",
   "execution_count": 28,
   "metadata": {},
   "outputs": [
    {
     "name": "stdout",
     "output_type": "stream",
     "text": [
      "[[4994 5419 8672 ... 6882 1484  548]]\n"
     ]
    }
   ],
   "source": [
    "# if we need to start counting rows from 1 and select rows 3,6,9,12 and so on\n",
    "# then I would just start the array from the 3rd row\n",
    "\n",
    "ndarray3rd = arr[2::3]\n",
    "print(ndarray3rd)"
   ]
  },
  {
   "cell_type": "markdown",
   "metadata": {},
   "source": [
    "Done"
   ]
  }
 ],
 "metadata": {
  "kernelspec": {
   "display_name": "Python 3",
   "language": "python",
   "name": "python3"
  },
  "language_info": {
   "codemirror_mode": {
    "name": "ipython",
    "version": 3
   },
   "file_extension": ".py",
   "mimetype": "text/x-python",
   "name": "python",
   "nbconvert_exporter": "python",
   "pygments_lexer": "ipython3",
   "version": "3.7.4"
  }
 },
 "nbformat": 4,
 "nbformat_minor": 2
}
