{
 "cells": [
  {
   "cell_type": "markdown",
   "metadata": {},
   "source": [
    "# Expert option questionnaire"
   ]
  },
  {
   "cell_type": "code",
   "execution_count": 59,
   "metadata": {},
   "outputs": [
    {
     "name": "stdout",
     "output_type": "stream",
     "text": [
      "Imported\n"
     ]
    }
   ],
   "source": [
    "import pandas as pd\n",
    "import numpy as np\n",
    "print(\"Imported\")"
   ]
  },
  {
   "cell_type": "markdown",
   "metadata": {},
   "source": [
    "## Part 1"
   ]
  },
  {
   "cell_type": "code",
   "execution_count": 60,
   "metadata": {},
   "outputs": [
    {
     "name": "stdout",
     "output_type": "stream",
     "text": [
      "   A  B\n",
      "0  0  7\n",
      "1  2  5\n",
      "2  2  2\n",
      "3  1  7\n",
      "4  3  2\n",
      "5  3  2\n",
      "6  3  0\n",
      "7  0  1\n"
     ]
    }
   ],
   "source": [
    "#1\n",
    "A = [0,2,2,1,3,3,3,0]\n",
    "B = [7,5,2,7,2,2,0,1]\n",
    "d = {'A': A, 'B': B}\n",
    "df = pd.DataFrame(data = d)\n",
    "print(df)"
   ]
  },
  {
   "cell_type": "markdown",
   "metadata": {},
   "source": [
    "## a"
   ]
  },
  {
   "cell_type": "code",
   "execution_count": 61,
   "metadata": {},
   "outputs": [
    {
     "name": "stdout",
     "output_type": "stream",
     "text": [
      "0    0.000000\n",
      "1    1.098612\n",
      "2    1.098612\n",
      "3    0.693147\n",
      "4    1.386294\n",
      "5    1.386294\n",
      "6    1.386294\n",
      "7    0.000000\n",
      "Name: A, dtype: float64\n"
     ]
    }
   ],
   "source": [
    "Alog1p = np.log1p(df.A)\n",
    "print(Alog1p)"
   ]
  },
  {
   "cell_type": "markdown",
   "metadata": {},
   "source": [
    "## b"
   ]
  },
  {
   "cell_type": "code",
   "execution_count": 62,
   "metadata": {},
   "outputs": [
    {
     "name": "stdout",
     "output_type": "stream",
     "text": [
      "Using numpy function\n",
      "0    7\n",
      "1    5\n",
      "2    2\n",
      "3    7\n",
      "4    3\n",
      "5    3\n",
      "6    3\n",
      "7    1\n",
      "dtype: int64 \n",
      "\n",
      "\n",
      "\n",
      "Using pandas method\n",
      "0    7\n",
      "1    5\n",
      "2    2\n",
      "3    7\n",
      "4    3\n",
      "5    3\n",
      "6    3\n",
      "7    1\n",
      "dtype: int64\n"
     ]
    }
   ],
   "source": [
    "print('Using numpy function')\n",
    "print(np.max(df, axis = 1),3*'\\n')\n",
    "# or \n",
    "print('Using pandas method')\n",
    "print(df.max(axis = 1))"
   ]
  },
  {
   "cell_type": "markdown",
   "metadata": {},
   "source": [
    "## c"
   ]
  },
  {
   "cell_type": "code",
   "execution_count": 63,
   "metadata": {},
   "outputs": [
    {
     "name": "stdout",
     "output_type": "stream",
     "text": [
      " 1\n",
      " 4\n",
      " 5\n",
      " 3\n",
      " 6\n",
      " 7\n",
      " 8\n",
      " 2\n",
      " A  row_number\n",
      " 0           1\n",
      " 2           4\n",
      " 2           5\n",
      " 1           3\n",
      " 3           6\n",
      " 3           7\n",
      " 3           8\n",
      " 0           2\n"
     ]
    }
   ],
   "source": [
    "\"\"\"Sorting, resetting index while saving the old one as a column, \n",
    "sorting back by the index column I saved and extracting the index.\n",
    "This will give us the row number which the element would have if sorted.\n",
    "I'm adding one to make them start with 1 rather than with 0\n",
    "\"\"\"\n",
    "C = df.A.sort_values(ascending = True).reset_index(inplace = False)\n",
    "C1 = C.sort_values('index')\n",
    "print((pd.Series(C1.index)+1).to_string(index = False))\n",
    "\n",
    "\n",
    "#to better represent it \n",
    "ans = pd.DataFrame({\"A\": df['A'],\"row_number\": pd.Series(C1.index)+1})\n",
    "print(ans.to_string(index = False))\n"
   ]
  },
  {
   "cell_type": "markdown",
   "metadata": {},
   "source": [
    "## d"
   ]
  },
  {
   "cell_type": "code",
   "execution_count": 64,
   "metadata": {},
   "outputs": [
    {
     "name": "stdout",
     "output_type": "stream",
     "text": [
      " A  B\n",
      " 0  7\n",
      " 1  7\n",
      " 2  5\n",
      " 3  2\n"
     ]
    }
   ],
   "source": [
    "d = pd.DataFrame(df.groupby('A').max().reset_index())\n",
    "print(d.to_string(index = False))"
   ]
  },
  {
   "cell_type": "code",
   "execution_count": 65,
   "metadata": {},
   "outputs": [
    {
     "name": "stdout",
     "output_type": "stream",
     "text": [
      " A  B\n",
      " 0  7\n",
      " 1  7\n",
      " 2  5\n",
      " 3  2\n",
      " 3  2\n"
     ]
    }
   ],
   "source": [
    "#or if it's necessary to keep duplicates\n",
    "d1 = df[df['B'] == df.groupby('A')['B'].transform('max')].sort_values('A')\n",
    "print(d1.to_string(index = False))"
   ]
  },
  {
   "cell_type": "markdown",
   "metadata": {},
   "source": [
    "## Part 2"
   ]
  },
  {
   "cell_type": "code",
   "execution_count": 66,
   "metadata": {},
   "outputs": [
    {
     "name": "stdout",
     "output_type": "stream",
     "text": [
      "[[ 615 3872 3441 ... 2859 6074 8052]\n",
      " [6124 1448 6578 ... 5834  227 8629]\n",
      " [6723 7531 3878 ... 6722 4363 8559]\n",
      " [4393 5754 6528 ... 4638 2505  127]\n",
      " [8604 1965 4472 ... 2521 1345 8572]]\n"
     ]
    }
   ],
   "source": [
    "arr = np.random.randint(low = 1,high = 10000, size = (5,100000))\n",
    "print(arr)"
   ]
  },
  {
   "cell_type": "markdown",
   "metadata": {},
   "source": [
    "## a"
   ]
  },
  {
   "cell_type": "code",
   "execution_count": 67,
   "metadata": {},
   "outputs": [
    {
     "data": {
      "text/plain": [
       "array([9999, 9999, 9999, 9999, 9999])"
      ]
     },
     "execution_count": 67,
     "metadata": {},
     "output_type": "execute_result"
    }
   ],
   "source": [
    "#a\n",
    "np.max(arr, axis = 1)"
   ]
  },
  {
   "cell_type": "markdown",
   "metadata": {},
   "source": [
    "## b"
   ]
  },
  {
   "cell_type": "code",
   "execution_count": 68,
   "metadata": {},
   "outputs": [
    {
     "data": {
      "text/plain": [
       "array([8604, 7531, 6578, ..., 6722, 6074, 8629])"
      ]
     },
     "execution_count": 68,
     "metadata": {},
     "output_type": "execute_result"
    }
   ],
   "source": [
    "#b\n",
    "np.max(arr, axis = 0)"
   ]
  },
  {
   "cell_type": "markdown",
   "metadata": {},
   "source": [
    "## c"
   ]
  },
  {
   "cell_type": "code",
   "execution_count": 69,
   "metadata": {},
   "outputs": [
    {
     "name": "stdout",
     "output_type": "stream",
     "text": [
      "[[ 615 3872 3441 ... 2859 6074 8052]\n",
      " [4393 5754 6528 ... 4638 2505  127]]\n"
     ]
    }
   ],
   "source": [
    "#c\n",
    "#Normally that would be a solution \n",
    "ndarray = arr[::3]\n",
    "print(ndarray)\n",
    "\n",
    "#this selects rows 0,3,6,9 and so on\n",
    "# if we need to start counting rows from 1 and select rows 3,6,9,12 the solution slightly differs"
   ]
  },
  {
   "cell_type": "code",
   "execution_count": 70,
   "metadata": {},
   "outputs": [
    {
     "name": "stdout",
     "output_type": "stream",
     "text": [
      "[[6723 7531 3878 ... 6722 4363 8559]]\n"
     ]
    }
   ],
   "source": [
    "# if we need to start counting rows from 1 and select rows 3,6,9,12 and so on\n",
    "# then I would just start the array from the 3rd row\n",
    "\n",
    "ndarray3rd = arr[2::3]\n",
    "print(ndarray3rd)"
   ]
  },
  {
   "cell_type": "markdown",
   "metadata": {},
   "source": [
    "Done"
   ]
  },
  {
   "cell_type": "code",
   "execution_count": 71,
   "metadata": {},
   "outputs": [
    {
     "name": "stdout",
     "output_type": "stream",
     "text": [
      " A  B\n",
      " 0  7\n",
      " 1  7\n",
      " 2  5\n",
      " 3  2\n"
     ]
    }
   ],
   "source": [
    "#if needed to print without index \n",
    "print(d.to_string(index = False))"
   ]
  }
 ],
 "metadata": {
  "kernelspec": {
   "display_name": "Python 3",
   "language": "python",
   "name": "python3"
  },
  "language_info": {
   "codemirror_mode": {
    "name": "ipython",
    "version": 3
   },
   "file_extension": ".py",
   "mimetype": "text/x-python",
   "name": "python",
   "nbconvert_exporter": "python",
   "pygments_lexer": "ipython3",
   "version": "3.7.4"
  }
 },
 "nbformat": 4,
 "nbformat_minor": 2
}
